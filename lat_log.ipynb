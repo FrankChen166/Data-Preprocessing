{
 "cells": [
  {
   "cell_type": "code",
   "execution_count": 2,
   "id": "b4314739",
   "metadata": {},
   "outputs": [],
   "source": [
    "import requests\n",
    "import time\n",
    "from selenium import webdriver\n",
    "from selenium.webdriver.support.ui import Select\n",
    "from bs4 import BeautifulSoup\n",
    "from selenium.webdriver.common.by import By\n",
    "options = webdriver.ChromeOptions()\n",
    "options.add_argument(\"headless\")\n",
    "path = \"C:/Users/a0909/JupyterProjects/chromedriver.exe\""
   ]
  },
  {
   "cell_type": "code",
   "execution_count": 3,
   "id": "2b048198",
   "metadata": {},
   "outputs": [],
   "source": [
    "def convert_log_lat(address):\n",
    "    browser = webdriver.Chrome(path, options=options)\n",
    "    browser.get(\"http://www.map.com.tw/\")\n",
    "    search = browser.find_element(\"id\",\"searchWord\")\n",
    "    search.clear()\n",
    "    search.send_keys(address)\n",
    "    browser.find_element(\"xpath\",\"/html/body/form/div[10]/div[2]/img[2]\").click() \n",
    "    time.sleep(10)\n",
    "    iframe = browser.find_elements(By.CLASS_NAME,\"winfoIframe\")[0]\n",
    "    browser.switch_to.frame(iframe)\n",
    "    coor_btn = browser.find_element(\"xpath\", \"/html/body/form/div[4]/table/tbody/tr[3]/td/table/tbody/tr/td[2]\")\n",
    "    coor_btn.click()\n",
    "    coor = browser.find_element(\"xpath\", \"/html/body/form/div[5]/table/tbody/tr[2]/td\")\n",
    "    coor = coor.text.strip().split(\" \")\n",
    "    lat = coor[-1].split(\"：\")[-1]\n",
    "    log = coor[0].split(\"：\")[-1]\n",
    "    browser.quit()\n",
    "    return(lat, log)"
   ]
  },
  {
   "cell_type": "code",
   "execution_count": 24,
   "id": "5f5fa151",
   "metadata": {},
   "outputs": [
    {
     "name": "stderr",
     "output_type": "stream",
     "text": [
      "C:\\Users\\a0909\\AppData\\Local\\Temp\\ipykernel_1156\\2926102605.py:2: DeprecationWarning: executable_path has been deprecated, please pass in a Service object\n",
      "  browser = webdriver.Chrome(path, options=options)\n"
     ]
    },
    {
     "name": "stdout",
     "output_type": "stream",
     "text": [
      "('25.057377', '121.553077')\n",
      "('25.057857', '121.566145')\n",
      "('25.050083', '121.547122')\n",
      "('25.046288', '121.552595')\n"
     ]
    }
   ],
   "source": [
    "address_list = [\"臺北市松山區民生東路四段80巷3號1樓\",\n",
    "                \"臺北市松山區新東街14號1樓\",\n",
    "                \"臺北市松山區敦化北路四巷五號一樓\",\n",
    "                \"臺北市松山區八德路三段74巷43號1樓\"\n",
    "    \n",
    "]\n",
    "\n",
    "for address in address_list:\n",
    "    addr = convert_log_lat(address)\n",
    "    print(addr)"
   ]
  },
  {
   "cell_type": "code",
   "execution_count": null,
   "id": "bdcd827e",
   "metadata": {},
   "outputs": [],
   "source": []
  }
 ],
 "metadata": {
  "kernelspec": {
   "display_name": "Python 3 (ipykernel)",
   "language": "python",
   "name": "python3"
  },
  "language_info": {
   "codemirror_mode": {
    "name": "ipython",
    "version": 3
   },
   "file_extension": ".py",
   "mimetype": "text/x-python",
   "name": "python",
   "nbconvert_exporter": "python",
   "pygments_lexer": "ipython3",
   "version": "3.9.12"
  }
 },
 "nbformat": 4,
 "nbformat_minor": 5
}
